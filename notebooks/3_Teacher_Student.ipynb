{
  "cells": [
    {
      "cell_type": "markdown",
      "metadata": {
        "id": "view-in-github",
        "colab_type": "text"
      },
      "source": [
        "<a href=\"https://colab.research.google.com/github/gilad-altshuler/ECG-classification/blob/main/notebooks/3_Teacher_Student.ipynb\" target=\"_parent\"><img src=\"https://colab.research.google.com/assets/colab-badge.svg\" alt=\"Open In Colab\"/></a>"
      ]
    },
    {
      "cell_type": "markdown",
      "metadata": {
        "id": "H9y7sGjmguY8"
      },
      "source": [
        "# Imports"
      ]
    },
    {
      "cell_type": "code",
      "source": [
        "import sys, os\n",
        "from pathlib import Path\n",
        "\n",
        "IN_COLAB = 'google.colab' in sys.modules\n",
        "\n",
        "if IN_COLAB:\n",
        "    print(\"Running in Colab. Cloning repo...\")\n",
        "    !git clone https://github.com/gilad-altshuler/Beyond_Linear_Summation-Three_Body_RNNs.git\n",
        "    %cd Beyond_Linear_Summation-Three_Body_RNNs\n",
        "    ROOT = Path(\".\").resolve()\n",
        "    while True:\n",
        "        user_input_path = input(\"Enter the full path to the runs directory in your Drive (e.g., /content/drive/MyDrive/runs): \")\n",
        "        if os.path.isdir(user_input_path):\n",
        "          user_input_path = Path(user_input_path).expanduser().resolve()\n",
        "          !ln -s \"$user_input_path\" /content/runs\n",
        "          break\n",
        "        else:\n",
        "          print(\"Invalid path. Please try again.\")\n",
        "    # Load Arial font\n",
        "    !wget -O Arial.ttf \"https://github.com/matomo-org/travis-scripts/raw/master/fonts/Arial.ttf\"\n",
        "\n",
        "else:\n",
        "    print(\"Not running in Colab.\")\n",
        "    ROOT = Path(__file__).resolve().parent.parent\n",
        "    sys.path.append(str(ROOT))"
      ],
      "metadata": {
        "id": "sjekWrhxSV3h"
      },
      "execution_count": null,
      "outputs": []
    },
    {
      "cell_type": "code",
      "execution_count": 1,
      "metadata": {
        "id": "zjV-LjRrgwIF"
      },
      "outputs": [],
      "source": [
        "import torch\n",
        "import random\n",
        "from torch import nn\n",
        "import numpy as np\n",
        "\n",
        "import matplotlib.font_manager as fm\n",
        "import matplotlib.pyplot as plt\n",
        "%matplotlib inline\n",
        "if IN_COLAB:\n",
        "  fm.fontManager.addfont('Arial.ttf')\n",
        "  arial_fp = fm.FontProperties(fname='Arial.ttf')\n",
        "  plt.rcParams['font.family'] = arial_fp.get_name()\n",
        "else:\n",
        "  plt.rcParams['font.family'] = 'Arial'\n",
        "plt.rcParams[\"font.size\"] = 10\n",
        "import seaborn as sns\n",
        "\n",
        "import utils\n",
        "from tasks import K_Bit_Flipflop_task, MultiFate_task, sin_task\n",
        "from Models import *"
      ]
    },
    {
      "cell_type": "code",
      "source": [
        "DATA_DIR = ROOT / \"data\" / \"solution_space\"\n",
        "FIG_DIR = ROOT / \"notebooks\" / \"figures\"\n",
        "RUN_DIR = ROOT.parent / \"runs\" / \"train_solution_space\""
      ],
      "metadata": {
        "id": "HPw1FNLmScEX"
      },
      "execution_count": null,
      "outputs": []
    },
    {
      "cell_type": "code",
      "source": [
        "DEVICE = \"cuda\" if torch.cuda.is_available() else \"cpu\""
      ],
      "metadata": {
        "id": "wxfqk3MkSOMx"
      },
      "execution_count": null,
      "outputs": []
    },
    {
      "cell_type": "code",
      "source": [
        "SEED = 3150\n",
        "random.seed(SEED)\n",
        "np.random.seed(SEED)\n",
        "torch.manual_seed(SEED)\n",
        "torch.cuda.manual_seed(SEED)\n",
        "torch.backends.cudnn.deterministic = True\n",
        "torch.backends.cudnn.benchmark = False"
      ],
      "metadata": {
        "id": "BVrMH2paSNNR"
      },
      "execution_count": null,
      "outputs": []
    },
    {
      "cell_type": "markdown",
      "metadata": {
        "id": "26iXRcW_gzDd"
      },
      "source": [
        "#Teacher-Student forcing"
      ]
    },
    {
      "cell_type": "markdown",
      "metadata": {
        "id": "IXEoQP8Zh_XW"
      },
      "source": [
        "##K-bit Flip-flop task"
      ]
    },
    {
      "cell_type": "markdown",
      "metadata": {
        "id": "vc5TI_QlaDxZ"
      },
      "source": [
        "### Training procedure"
      ]
    },
    {
      "cell_type": "markdown",
      "metadata": {
        "id": "6txp53OgaKs5"
      },
      "source": [
        "###Evaluation"
      ]
    },
    {
      "cell_type": "code",
      "execution_count": null,
      "metadata": {
        "id": "MnAE6iHRDU1X"
      },
      "outputs": [],
      "source": [
        "import copy\n",
        "from K_Bit_Flipflop_task import evaluate"
      ]
    },
    {
      "cell_type": "code",
      "execution_count": null,
      "metadata": {
        "id": "Yj6JcbSSvd52"
      },
      "outputs": [],
      "source": [
        "def evaluate(model, input, target, teacher_traj=None, rates=False):\n",
        "    \"\"\"\n",
        "    Evaluate the model on the K-Bit Flipflop task.\n",
        "    :param model: The model to evaluate\n",
        "    :param input: Input tensor of shape (batch_size, time_steps, K)\n",
        "    :param target: Target tensor of shape (batch_size, time_steps, K)\n",
        "    :param teacher_traj: Optional tensor of teacher trajectories for evaluation\n",
        "    :param rates: Optional If True, apply output nonlinearity to the trajectory\n",
        "    :return: Tuple of (accuracy, mse error, R2 score, and teacher-student trajectory mse error)\n",
        "    \"\"\"\n",
        "    from sklearn.metrics import r2_score\n",
        "\n",
        "    model.eval()\n",
        "    with torch.no_grad():\n",
        "        prediction, _, trajectory = model(input, None)\n",
        "        if rates:\n",
        "            trajectory = model.output_nonlinearity(trajectory)\n",
        "\n",
        "        acc = accuracy(prediction,target)\n",
        "        error = torch.nn.functional.mse_loss(prediction, target).item()\n",
        "        if teacher_traj is not None:\n",
        "            r2 = np.array([r2_score(trajectory[:,:,i], teacher_traj[:,:,i]) for i in range(trajectory.shape[2])]).mean().item()\n",
        "            ts_error = torch.nn.functional.mse_loss(trajectory, teacher_traj).item()\n",
        "            return acc,error,r2,ts_error\n",
        "        else:\n",
        "            return acc,error,None,None\n",
        "\n",
        "\n",
        "def accuracy(prediction,target):\n",
        "    sign_prediction = prediction.sign()\n",
        "    acc = (sign_prediction == target).float().mean().item()\n",
        "    return acc"
      ]
    },
    {
      "cell_type": "code",
      "execution_count": null,
      "metadata": {
        "id": "u4WUHG_U1e-c"
      },
      "outputs": [],
      "source": [
        "DEVICE=\"cpu\"\n",
        "T = 100\n",
        "t_ranks = 3\n",
        "s_ranks = 10\n",
        "hidden_dim = 30\n",
        "data_size = 128\n",
        "\n",
        "criterion = nn.MSELoss().to(DEVICE)\n",
        "stats = {\"rnn\":[{\"rnn\":[-np.inf]*(s_ranks+1),\n",
        "                 \"tbrnn\":[-np.inf]*(s_ranks+1)} for r in range(t_ranks+1)],\n",
        "         \"tbrnn\":[{\"rnn\":[-np.inf]*(s_ranks+1),\n",
        "                 \"tbrnn\":[-np.inf]*(s_ranks+1)} for r in range(t_ranks+1)]}\n",
        "\n",
        "accs = copy.deepcopy(stats)\n",
        "mse_errs = copy.deepcopy(stats)\n",
        "r2s = copy.deepcopy(stats)\n",
        "t_s_errs = copy.deepcopy(stats)\n",
        "\n",
        "for t_rank in range(1,t_ranks+1):\n",
        "  # generate new data\n",
        "  input_size=output_size=K=t_rank\n",
        "  input, target = K_Bit_Flipflop_task.generate_data(data_size,T,K)\n",
        "\n",
        "  # define teachers\n",
        "  lr_rnn_teacher = Low_Rank_RNN(input_size, output_size, hidden_dim, rank=t_rank,\n",
        "                          mode='cont', form='rate',task=\"FF\",noise_std=0.0,\n",
        "                          tau=0.2, Win_bias=False, Wout_bias=False).to(DEVICE)\n",
        "\n",
        "  lr_tbrnn_teacher = Low_Rank_TBRNN(input_size, output_size, hidden_dim, rank=t_rank,\n",
        "                          mode='cont', form='rate',task=\"FF\",noise_std=0.0,\n",
        "                          tau=0.2, Win_bias=False, Wout_bias=False).to(DEVICE)\n",
        "\n",
        "  lr_rnn_teacher.load_state_dict(torch.load(f\"/content/drive/MyDrive/Three_Bodies_Network/Teacher-Student/rank_{t_rank}_RNN_on_{K}_Flipflop.pth\",map_location=DEVICE))\n",
        "  lr_tbrnn_teacher.load_state_dict(torch.load(f\"/content/drive/MyDrive/Three_Bodies_Network/Teacher-Student/rank_{t_rank}_TBRNN_on_{K}_Flipflop.pth\",map_location=DEVICE))\n",
        "\n",
        "  teachers = {\"rnn\":lr_rnn_teacher,\"tbrnn\":lr_tbrnn_teacher}\n",
        "\n",
        "  for t_name,teacher in teachers.items():\n",
        "\n",
        "    teacher_hidden = teacher(input,None)[2].detach().clone()\n",
        "\n",
        "    for s_rank in range(t_rank,s_ranks+1):\n",
        "      # define students\n",
        "      lr_rnn_student = Low_Rank_RNN(input_size, output_size, hidden_dim, rank=s_rank,\n",
        "                                mode='cont', form='rate',output_nonlinearity=(lambda x: x),task=\"FF\",noise_std=0.0,\n",
        "                                tau=0.2, Win_bias=False, Wout_bias=False,w_out=torch.nn.Identity().to(DEVICE)).to(DEVICE)\n",
        "\n",
        "      lr_tbrnn_student = Low_Rank_TBRNN(input_size, output_size, hidden_dim, rank=s_rank,\n",
        "                                mode='cont', form='rate',output_nonlinearity=(lambda x: x),task=\"FF\",noise_std=0.0,\n",
        "                                tau=0.2, Win_bias=False, Wout_bias=False,w_out=torch.nn.Identity().to(DEVICE)).to(DEVICE)\n",
        "\n",
        "      students = {\"rnn\":lr_rnn_student,\"tbrnn\":lr_tbrnn_student}\n",
        "\n",
        "      for s_name,student in students.items():\n",
        "        if s_name == t_name and s_rank != t_rank:\n",
        "          continue\n",
        "\n",
        "        student.load_state_dict(torch.load(f\"/content/drive/MyDrive/Three_Bodies_Network/Teacher-Student/r_{s_rank}_{s_name}_on_r_{t_rank}_{t_name}_task_{K}_Flipflop.pth\",map_location=DEVICE))\n",
        "        student.w_out = copy.deepcopy(teacher.w_out)\n",
        "        student.output_nonlinearity = teacher.output_nonlinearity\n",
        "\n",
        "        stats[t_name][t_rank][s_name][s_rank] = evaluate(student,input,target,teacher_hidden)\n",
        "        (\n",
        "          accs[t_name][t_rank][s_name][s_rank],\n",
        "          mse_errs[t_name][t_rank][s_name][s_rank],\n",
        "          r2s[t_name][t_rank][s_name][s_rank],\n",
        "          t_s_errs[t_name][t_rank][s_name][s_rank]\n",
        "        ) = stats[t_name][t_rank][s_name][s_rank]"
      ]
    },
    {
      "cell_type": "code",
      "execution_count": null,
      "metadata": {
        "colab": {
          "base_uri": "https://localhost:8080/"
        },
        "id": "6mj-xaptVCRK",
        "outputId": "005b8cdb-6165-4a0b-91d7-995d8fd8673d"
      },
      "outputs": [
        {
          "name": "stdout",
          "output_type": "stream",
          "text": [
            "Teacher rnn:\n",
            "\trank 1:\n",
            "\t\tstudent rnn - min rank: 1, R2: 0.9951443876828173\n",
            "\t\tstudent tbrnn - min rank: >10, R2: 0.5953044868358623\n",
            "\trank 2:\n",
            "\t\tstudent rnn - min rank: 2, R2: 0.9997180415051707\n",
            "\t\tstudent tbrnn - min rank: >10, R2: 0.8977957060538628\n",
            "\trank 3:\n",
            "\t\tstudent rnn - min rank: 3, R2: 0.999278548461539\n",
            "\t\tstudent tbrnn - min rank: 4, R2: 0.9571389108862427\n",
            "Teacher tbrnn:\n",
            "\trank 1:\n",
            "\t\tstudent rnn - min rank: >10, R2: -1.703983019379259\n",
            "\t\tstudent tbrnn - min rank: 1, R2: 0.9982490190181615\n",
            "\trank 2:\n",
            "\t\tstudent rnn - min rank: >10, R2: -1.2604213613112898\n",
            "\t\tstudent tbrnn - min rank: 2, R2: 0.9590174656330724\n",
            "\trank 3:\n",
            "\t\tstudent rnn - min rank: >10, R2: -1.4819188602166227\n",
            "\t\tstudent tbrnn - min rank: 3, R2: 0.9474435499767911\n"
          ]
        }
      ],
      "source": [
        "models = [\"rnn\",\"tbrnn\"]\n",
        "for t in models:\n",
        "  print(f\"Teacher {t}:\")\n",
        "  for rank in range(1,t_ranks+1):\n",
        "    print(f\"\\trank {rank}:\")\n",
        "    for s in models:\n",
        "      threshold = 0.90\n",
        "      students = np.array(r2s[t][rank][s][rank:])\n",
        "      if (students > threshold).any():\n",
        "        min_pass_threshold = (students > threshold).argmax().item()\n",
        "        min_rank = min_pass_threshold + rank\n",
        "        r2 = students[min_pass_threshold]\n",
        "      else:\n",
        "        min_rank = f\">{s_ranks}\"\n",
        "        r2 = students.max()\n",
        "      print(f\"\\t\\tstudent {s} - min rank: {min_rank}, R2: {r2}\")"
      ]
    },
    {
      "cell_type": "code",
      "execution_count": null,
      "metadata": {
        "colab": {
          "base_uri": "https://localhost:8080/",
          "height": 648
        },
        "id": "PXhqq585xUbX",
        "outputId": "cffd2eee-4b39-4ed7-de0c-e04721b2cc4a"
      },
      "outputs": [
        {
          "name": "stderr",
          "output_type": "stream",
          "text": [
            "/tmp/ipython-input-10-808937788.py:14: UserWarning: No artists with labels found to put in legend.  Note that artists whose label start with an underscore are ignored when legend() is called with no argument.\n",
            "  _=ax[row][col].legend()\n"
          ]
        },
        {
          "data": {
            "image/png": "[encoded data removed]",
            "text/plain": [
              "<Figure size 2000x1000 with 6 Axes>"
            ]
          },
          "metadata": {},
          "output_type": "display_data"
        }
      ],
      "source": [
        "fig = plt.figure(figsize=(20,10))\n",
        "ax = fig.subplots(2, 3)\n",
        "for row,(teacher,t_stat) in enumerate(stats.items()):\n",
        "  for col,t_r_stat in enumerate(t_stat[1:]):\n",
        "    for student in t_r_stat.keys():\n",
        "      t_rank = col + 1\n",
        "      if teacher!=student:\n",
        "        ax[row][col].plot(accs[teacher][t_rank][student],label='Task accuracy')\n",
        "        ax[row][col].plot(mse_errs[teacher][t_rank][student],label='MSE error')\n",
        "        ax[row][col].plot(r2s[teacher][t_rank][student],label='R2')\n",
        "      else:\n",
        "        ax[row][col].plot(r2s[teacher][t_rank][student],'*')\n",
        "\n",
        "      _=ax[row][col].legend()\n",
        "      _=ax[row][col].set_title(f\"Rank-{t_rank} {teacher} teacher\")"
      ]
    },
    {
      "cell_type": "code",
      "execution_count": null,
      "metadata": {
        "colab": {
          "base_uri": "https://localhost:8080/",
          "height": 452
        },
        "id": "1FYSsHKZqMv9",
        "outputId": "394854e1-9250-47e3-9013-0318098eacbe"
      },
      "outputs": [
        {
          "data": {
            "image/png": "[encoded data removed]",
            "text/plain": [
              "<Figure size 640x480 with 1 Axes>"
            ]
          },
          "metadata": {},
          "output_type": "display_data"
        }
      ],
      "source": [
        "plt.plot(accs['tbrnn'][3]['rnn'],label='Task accuracy')\n",
        "# plt.plot(mse_errs['tbrnn'][3]['rnn'],label='MSE error')\n",
        "# plt.plot(r2s['tbrnn'][3]['rnn'],label='R2')\n",
        "plt.plot(r2s['tbrnn'][3]['tbrnn'],'*')\n",
        "_=plt.legend()\n",
        "_=plt.title(f\"Rank-3 TBRNN teacher\")"
      ]
    },
    {
      "cell_type": "markdown",
      "metadata": {
        "id": "zRHi9IehRJwD"
      },
      "source": [
        "##Sine-wave prediction task"
      ]
    },
    {
      "cell_type": "markdown",
      "metadata": {
        "id": "q8CHmK9PAIWt"
      },
      "source": [
        "###Training procedure"
      ]
    },
    {
      "cell_type": "code",
      "source": [
        "DEVICE=\"cpu\"\n",
        "from Models import *\n",
        "from sin_task import generate_data, evaluate\n",
        "import copy\n",
        "\n",
        "T = 100\n",
        "data_size = 500\n",
        "input_size = output_size = 1\n",
        "hidden_dim = 30\n",
        "t_rank = 2\n",
        "\n",
        "s_ranks = 6\n",
        "n_trials = 32\n",
        "\n",
        "criterion = nn.MSELoss().to(DEVICE)\n",
        "stats = {\n",
        "    \"rnn\": {\n",
        "        \"rnn\": [[None for _ in range(n_trials)] for _ in range(s_ranks)],\n",
        "        \"tbrnn\": [[None for _ in range(n_trials)] for _ in range(s_ranks)],\n",
        "    },\n",
        "    \"tbrnn\": {\n",
        "        \"rnn\": [[None for _ in range(n_trials)] for _ in range(s_ranks)],\n",
        "        \"tbrnn\": [[None for _ in range(n_trials)] for _ in range(s_ranks)],\n",
        "    },\n",
        "}\n",
        "\n",
        "t_mse = {\n",
        "    \"rnn\": [[None for _ in range(data_size)] for _ in range(n_trials)],\n",
        "    \"tbrnn\": [[None for _ in range(data_size)] for _ in range(n_trials)]\n",
        "}\n",
        "\n",
        "accs = copy.deepcopy(stats)\n",
        "mse_errs = copy.deepcopy(stats)\n",
        "r2s = copy.deepcopy(stats)\n",
        "t_s_errs = copy.deepcopy(stats)\n",
        "\n",
        "for run in range(1,n_trials+1):\n",
        "  print(f\"Reading stats of run: {run:03}\")\n",
        "  i = run-1\n",
        "  input, target = sin_task.generate_data(data_size,T)\n",
        "\n",
        "  # define teachers\n",
        "  lr_tbrnn = Low_Rank_TBRNN(input_size, output_size, hidden_dim, rank=t_rank, mode='cont', form='rate', task=\"Sin\",\n",
        "                      noise_std=0.0, tau=0.2, Win_bias=False, Wout_bias=True).to(DEVICE)\n",
        "  lr_tbrnn.load_state_dict(torch.load(f\"/content/drive/MyDrive/Three_Bodies_Network/sin_task/{run:03}/tbrnn_teacher.pth\",map_location=DEVICE))\n",
        "\n",
        "  lr_rnn = Low_Rank_RNN(input_size, output_size, hidden_dim, rank=t_rank, mode='cont', form='rate', task=\"Sin\",\n",
        "                      noise_std=0.0, tau=0.2, Win_bias=False, Wout_bias=True).to(DEVICE)\n",
        "  lr_rnn.load_state_dict(torch.load(f\"/content/drive/MyDrive/Three_Bodies_Network/sin_task/{run:03}/rnn_teacher.pth\",map_location=DEVICE))\n",
        "\n",
        "  teachers = {\"rnn\":lr_rnn,\"tbrnn\":lr_tbrnn}\n",
        "\n",
        "  for t_name,teacher in teachers.items():\n",
        "    t_mse[t_name][i],_,_ = evaluate(teacher,input,target,reduction='none')\n",
        "    teacher_hidden = teacher(input,None)[2].detach().clone()\n",
        "\n",
        "    for s_rank in range(1,s_ranks+1):\n",
        "      # define students\n",
        "      lr_rnn_student = Low_Rank_RNN(input_size, output_size, hidden_dim, rank=s_rank,\n",
        "                                mode='cont', form='rate',output_nonlinearity=teacher.output_nonlinearity,task=\"Sin\",noise_std=0.0,\n",
        "                                tau=0.2, Win_bias=False, Wout_bias=True).to(DEVICE)\n",
        "\n",
        "      lr_tbrnn_student = Low_Rank_TBRNN(input_size, output_size, hidden_dim, rank=s_rank,\n",
        "                                mode='cont', form='rate',output_nonlinearity=teacher.output_nonlinearity,task=\"Sin\",noise_std=0.0,\n",
        "                                tau=0.2, Win_bias=False, Wout_bias=True).to(DEVICE)\n",
        "\n",
        "      students = {\"rnn\":lr_rnn_student,\"tbrnn\":lr_tbrnn_student}\n",
        "\n",
        "      for s_name,student in students.items():\n",
        "\n",
        "        student.load_state_dict(torch.load(f\"/content/drive/MyDrive/Three_Bodies_Network/sin_task/{run:03}/r_{s_rank}_{s_name}_on_{t_name}.pth\",map_location=DEVICE))\n",
        "\n",
        "        stats[t_name][s_name][s_rank-1][i] = evaluate(student,input,target,teacher_traj=teacher_hidden,rates=False,r2_mode='per_batch',r2_all=True)\n",
        "        (\n",
        "          accs[t_name][s_name][s_rank-1][i],\n",
        "          mse_errs[t_name][s_name][s_rank-1][i],\n",
        "          r2s[t_name][s_name][s_rank-1][i],\n",
        "          t_s_errs[t_name][s_name][s_rank-1][i]\n",
        "        ) = stats[t_name][s_name][s_rank-1][i]\n",
        "\n",
        "for t_name in ['rnn','tbrnn']:\n",
        "  t_mse[t_name] = np.array(t_mse[t_name])\n",
        "  for s_name in ['rnn','tbrnn']:\n",
        "    accs[t_name][s_name] = np.array(accs[t_name][s_name])\n",
        "    mse_errs[t_name][s_name] = np.array(mse_errs[t_name][s_name])\n",
        "    r2s[t_name][s_name] = np.array(r2s[t_name][s_name])\n",
        "    t_s_errs[t_name][s_name] = np.array(t_s_errs[t_name][s_name])\n",
        "\n",
        "print(\"Done.\")"
      ],
      "metadata": {
        "colab": {
          "base_uri": "https://localhost:8080/"
        },
        "id": "DGaGIsOYPfqM",
        "outputId": "9203659f-cde8-47fc-c954-5c3a3dc7ace6"
      },
      "execution_count": 4,
      "outputs": [
        {
          "output_type": "stream",
          "name": "stdout",
          "text": [
            "Reading stats of run: 001\n",
            "Reading stats of run: 002\n",
            "Reading stats of run: 003\n",
            "Reading stats of run: 004\n",
            "Reading stats of run: 005\n",
            "Reading stats of run: 006\n",
            "Reading stats of run: 007\n",
            "Reading stats of run: 008\n",
            "Reading stats of run: 009\n",
            "Reading stats of run: 010\n",
            "Reading stats of run: 011\n",
            "Reading stats of run: 012\n",
            "Reading stats of run: 013\n",
            "Reading stats of run: 014\n",
            "Reading stats of run: 015\n",
            "Reading stats of run: 016\n",
            "Reading stats of run: 017\n",
            "Reading stats of run: 018\n",
            "Reading stats of run: 019\n",
            "Reading stats of run: 020\n",
            "Reading stats of run: 021\n",
            "Reading stats of run: 022\n",
            "Reading stats of run: 023\n",
            "Reading stats of run: 024\n",
            "Reading stats of run: 025\n",
            "Reading stats of run: 026\n",
            "Reading stats of run: 027\n",
            "Reading stats of run: 028\n",
            "Reading stats of run: 029\n",
            "Reading stats of run: 030\n",
            "Reading stats of run: 031\n",
            "Reading stats of run: 032\n",
            "Done.\n"
          ]
        }
      ]
    },
    {
      "cell_type": "code",
      "source": [
        "rank = 2\n",
        "models = [\"rnn\",\"tbrnn\"]\n",
        "for t in models:\n",
        "  print(f\"Teacher {t}:\")\n",
        "  for s in models:\n",
        "    threshold = 0.9\n",
        "    students = r2s[t][s].mean(axis=(1,2))\n",
        "    if (students > threshold).any():\n",
        "      min_pass_threshold = (students > threshold).argmax().item()\n",
        "      min_rank = min_pass_threshold\n",
        "      r2 = students[min_pass_threshold]\n",
        "      min_rank = min_rank + 1\n",
        "    else:\n",
        "      min_rank = f\">{s_ranks}\"\n",
        "      r2 = students.max()\n",
        "    print(f\"\\tstudent {s} - min rank: {min_rank}, mean R2: {r2:.2f}\")\n"
      ],
      "metadata": {
        "colab": {
          "base_uri": "https://localhost:8080/"
        },
        "id": "tYE_l8V41ksM",
        "outputId": "3c1c8e41-c705-42b7-e1ac-9a8cfd9c108c"
      },
      "execution_count": 60,
      "outputs": [
        {
          "output_type": "stream",
          "name": "stdout",
          "text": [
            "Teacher rnn:\n",
            "\tstudent rnn - min rank: 2, mean R2: 0.97\n",
            "\tstudent tbrnn - min rank: 4, mean R2: 0.90\n",
            "Teacher tbrnn:\n",
            "\tstudent rnn - min rank: >6, mean R2: 0.61\n",
            "\tstudent tbrnn - min rank: 2, mean R2: 0.97\n"
          ]
        }
      ]
    },
    {
      "cell_type": "code",
      "source": [
        "rank = 2\n",
        "models = [\"rnn\",\"tbrnn\"]\n",
        "for t in models:\n",
        "  print(f\"Teacher {t}:\")\n",
        "  for s in models:\n",
        "    threshold = 0.85\n",
        "    students = np.median(r2s[t][s],axis=(1,2))\n",
        "    if (students > threshold).any():\n",
        "      min_pass_threshold = (students > threshold).argmax().item()\n",
        "      min_rank = min_pass_threshold\n",
        "      r2 = students[min_pass_threshold]\n",
        "      min_rank = min_rank + 1\n",
        "    else:\n",
        "      min_rank = f\">{s_ranks}\"\n",
        "      r2 = students.max()\n",
        "    print(f\"\\tstudent {s} - min rank: {min_rank}, mean R2: {r2:.2f}\")"
      ],
      "metadata": {
        "colab": {
          "base_uri": "https://localhost:8080/"
        },
        "id": "03pVR-Nj1p-R",
        "outputId": "94f6c271-f71c-4b6a-ee6a-ab2123d77839"
      },
      "execution_count": 53,
      "outputs": [
        {
          "output_type": "stream",
          "name": "stdout",
          "text": [
            "Teacher rnn:\n",
            "\tstudent rnn - min rank: 2, mean R2: 0.99\n",
            "\tstudent tbrnn - min rank: >6, mean R2: -43.24\n",
            "Teacher tbrnn:\n",
            "\tstudent rnn - min rank: >6, mean R2: 0.74\n",
            "\tstudent tbrnn - min rank: 2, mean R2: 0.91\n"
          ]
        }
      ]
    },
    {
      "cell_type": "code",
      "source": [
        "np.std(r2s[t][s],axis=(1,2))"
      ],
      "metadata": {
        "colab": {
          "base_uri": "https://localhost:8080/"
        },
        "id": "TdJq3K4__BxO",
        "outputId": "fcba977e-353f-4e17-b35b-80ab1b457862"
      },
      "execution_count": 55,
      "outputs": [
        {
          "output_type": "execute_result",
          "data": {
            "text/plain": [
              "array([7.34929511e+02, 2.24857649e+01, 4.51989458e-01, 2.71554260e-01,\n",
              "       2.99927960e-01, 3.26918344e-01])"
            ]
          },
          "metadata": {},
          "execution_count": 55
        }
      ]
    },
    {
      "cell_type": "code",
      "source": [],
      "metadata": {
        "id": "AwIyRaT68eXU"
      },
      "execution_count": null,
      "outputs": []
    },
    {
      "cell_type": "code",
      "source": [
        "np.sort(r2s['tbrnn']['tbrnn'][1][r2s['tbrnn']['tbrnn'][1]>0]).mean()"
      ],
      "metadata": {
        "colab": {
          "base_uri": "https://localhost:8080/"
        },
        "id": "NP_t2boK6seT",
        "outputId": "695e4b44-2630-4d42-93e9-6fbfe8c2f0fe"
      },
      "execution_count": 50,
      "outputs": [
        {
          "output_type": "execute_result",
          "data": {
            "text/plain": [
              "np.float64(0.8704137873781671)"
            ]
          },
          "metadata": {},
          "execution_count": 50
        }
      ]
    },
    {
      "cell_type": "markdown",
      "source": [
        "kbitff"
      ],
      "metadata": {
        "id": "PN2ZT5vAA5fM"
      }
    },
    {
      "cell_type": "code",
      "source": [
        "DEVICE=\"cpu\"\n",
        "from Models import *\n",
        "from K_Bit_Flipflop_task import generate_data\n",
        "import copy\n",
        "\n",
        "T = 100\n",
        "data_size = 500\n",
        "input_size = output_size = 1\n",
        "hidden_dim = 30\n",
        "t_rank = 1\n",
        "\n",
        "s_ranks = 6\n",
        "n_trials = 30\n",
        "\n",
        "criterion = nn.MSELoss().to(DEVICE)\n",
        "stats = {\n",
        "    \"rnn\": {\n",
        "        \"rnn\": [[None for _ in range(n_trials)] for _ in range(s_ranks)],\n",
        "        \"tbrnn\": [[None for _ in range(n_trials)] for _ in range(s_ranks)],\n",
        "    },\n",
        "    \"tbrnn\": {\n",
        "        \"rnn\": [[None for _ in range(n_trials)] for _ in range(s_ranks)],\n",
        "        \"tbrnn\": [[None for _ in range(n_trials)] for _ in range(s_ranks)],\n",
        "    },\n",
        "}\n",
        "\n",
        "t_mse = {\n",
        "    \"rnn\": [[None for _ in range(data_size)] for _ in range(n_trials)],\n",
        "    \"tbrnn\": [[None for _ in range(data_size)] for _ in range(n_trials)]\n",
        "}\n",
        "\n",
        "accs = copy.deepcopy(stats)\n",
        "mse_errs = copy.deepcopy(stats)\n",
        "r2s = copy.deepcopy(stats)\n",
        "t_s_errs = copy.deepcopy(stats)\n",
        "input, target = generate_data(data_size,T,input_size)\n",
        "for run in range(1,n_trials+1):\n",
        "  i = run-1\n",
        "  print(f\"Reading stats of run: {run:03}\")\n",
        "\n",
        "\n",
        "  # define teachers\n",
        "  lr_tbrnn = Low_Rank_TBRNN(input_size, output_size, hidden_dim, rank=t_rank, mode='cont', form='rate', task=\"FF\",\n",
        "                      noise_std=0.0, tau=0.2, Win_bias=False, Wout_bias=False).to(DEVICE)\n",
        "  lr_tbrnn.load_state_dict(torch.load(f\"/content/drive/MyDrive/Three_Bodies_Network/K_Bit_Flipflop_task/1/{run:03}/tbrnn_teacher.pth\",map_location=DEVICE))\n",
        "\n",
        "  lr_rnn = Low_Rank_RNN(input_size, output_size, hidden_dim, rank=t_rank, mode='cont', form='rate', task=\"FF\",\n",
        "                      noise_std=0.0, tau=0.2, Win_bias=False, Wout_bias=False).to(DEVICE)\n",
        "  lr_rnn.load_state_dict(torch.load(f\"/content/drive/MyDrive/Three_Bodies_Network/K_Bit_Flipflop_task/1/{run:03}/rnn_teacher.pth\",map_location=DEVICE))\n",
        "\n",
        "  teachers = {\"rnn\":lr_rnn,\"tbrnn\":lr_tbrnn}\n",
        "\n",
        "  for t_name,teacher in teachers.items():\n",
        "    t_mse[t_name][i],_,_ ,_= evaluate(teacher,input,target,reduction='none')\n",
        "    teacher_hidden = teacher(input,None)[2].detach().clone()\n",
        "\n",
        "    for s_rank in range(1,s_ranks+1):\n",
        "      # define students\n",
        "      lr_rnn_student = Low_Rank_RNN(input_size, output_size, hidden_dim, rank=s_rank,\n",
        "                                mode='cont', form='rate',output_nonlinearity=teacher.output_nonlinearity,task=\"FF\",noise_std=0.0,\n",
        "                                tau=0.2, Win_bias=False, Wout_bias=False).to(DEVICE)\n",
        "\n",
        "      lr_tbrnn_student = Low_Rank_TBRNN(input_size, output_size, hidden_dim, rank=s_rank,\n",
        "                                mode='cont', form='rate',output_nonlinearity=teacher.output_nonlinearity,task=\"FF\",noise_std=0.0,\n",
        "                                tau=0.2, Win_bias=False, Wout_bias=False).to(DEVICE)\n",
        "\n",
        "      students = {\"rnn\":lr_rnn_student,\"tbrnn\":lr_tbrnn_student}\n",
        "\n",
        "      for s_name,student in students.items():\n",
        "\n",
        "        student.load_state_dict(torch.load(f\"/content/drive/MyDrive/Three_Bodies_Network/K_Bit_Flipflop_task/1/{run:03}/r_{s_rank}_{s_name}_on_{t_name}.pth\",map_location=DEVICE))\n",
        "\n",
        "        stats[t_name][s_name][s_rank-1][i] = evaluate(student,input,target,teacher_traj=teacher_hidden,rates=False,r2_mode='per_batch',r2_all=True)\n",
        "        (\n",
        "          accs[t_name][s_name][s_rank-1][i],\n",
        "          mse_errs[t_name][s_name][s_rank-1][i],\n",
        "          r2s[t_name][s_name][s_rank-1][i],\n",
        "          t_s_errs[t_name][s_name][s_rank-1][i]\n",
        "        ) = stats[t_name][s_name][s_rank-1][i]\n",
        "\n",
        "for t_name in ['rnn','tbrnn']:\n",
        "  t_mse[t_name] = np.array(t_mse[t_name])\n",
        "  for s_name in ['rnn','tbrnn']:\n",
        "    accs[t_name][s_name] = np.array(accs[t_name][s_name])\n",
        "    mse_errs[t_name][s_name] = np.array(mse_errs[t_name][s_name])\n",
        "    r2s[t_name][s_name] = np.array(r2s[t_name][s_name])\n",
        "    t_s_errs[t_name][s_name] = np.array(t_s_errs[t_name][s_name])\n",
        "\n",
        "print(\"Done.\")"
      ],
      "metadata": {
        "colab": {
          "base_uri": "https://localhost:8080/"
        },
        "id": "ILCVK-hpA6TX",
        "outputId": "3c1fde58-d9ad-4140-d7e0-952cf3233a05"
      },
      "execution_count": 65,
      "outputs": [
        {
          "output_type": "stream",
          "name": "stdout",
          "text": [
            "Reading stats of run: 001\n",
            "Reading stats of run: 002\n",
            "Reading stats of run: 003\n",
            "Reading stats of run: 004\n",
            "Reading stats of run: 005\n",
            "Reading stats of run: 006\n",
            "Reading stats of run: 007\n",
            "Reading stats of run: 008\n",
            "Reading stats of run: 009\n",
            "Reading stats of run: 010\n",
            "Reading stats of run: 011\n",
            "Reading stats of run: 012\n",
            "Reading stats of run: 013\n",
            "Reading stats of run: 014\n",
            "Reading stats of run: 015\n",
            "Reading stats of run: 016\n",
            "Reading stats of run: 017\n",
            "Reading stats of run: 018\n",
            "Reading stats of run: 019\n",
            "Reading stats of run: 020\n",
            "Reading stats of run: 021\n",
            "Reading stats of run: 022\n",
            "Reading stats of run: 023\n",
            "Reading stats of run: 024\n",
            "Reading stats of run: 025\n",
            "Reading stats of run: 026\n",
            "Reading stats of run: 027\n",
            "Reading stats of run: 028\n",
            "Reading stats of run: 029\n",
            "Reading stats of run: 030\n",
            "Done.\n"
          ]
        }
      ]
    },
    {
      "cell_type": "code",
      "source": [
        "models = [\"rnn\",\"tbrnn\"]\n",
        "for t in models:\n",
        "  print(f\"Teacher {t}:\")\n",
        "  for s in models:\n",
        "    threshold = 0.8\n",
        "    students = np.median(r2s[t][s],axis=(1,2))\n",
        "    if (students > threshold).any():\n",
        "      min_pass_threshold = (students > threshold).argmax().item()\n",
        "      min_rank = min_pass_threshold\n",
        "      r2 = students[min_pass_threshold]\n",
        "      min_rank = min_rank + 1\n",
        "      best = \"\"\n",
        "    else:\n",
        "      best = \"best \"\n",
        "      min_rank = f\">{s_ranks}\"\n",
        "      r2 = students.max()\n",
        "    print(f\"\\tstudent {s} - min rank: {min_rank}, {best}median $R^2$: {r2:.2f}\")"
      ],
      "metadata": {
        "colab": {
          "base_uri": "https://localhost:8080/"
        },
        "id": "JhWkd46lDc0e",
        "outputId": "b8d4c960-7be8-4d34-bd25-015f8a53efea"
      },
      "execution_count": 32,
      "outputs": [
        {
          "output_type": "stream",
          "name": "stdout",
          "text": [
            "Teacher rnn:\n",
            "\tstudent rnn - min rank: 1, median $R^2$: 1.00\n",
            "\tstudent tbrnn - min rank: 3, median $R^2$: 0.87\n",
            "Teacher tbrnn:\n",
            "\tstudent rnn - min rank: >6, best median $R^2$: -1.04\n",
            "\tstudent tbrnn - min rank: 1, median $R^2$: 0.94\n"
          ]
        }
      ]
    },
    {
      "cell_type": "markdown",
      "source": [
        "2-bit-ff"
      ],
      "metadata": {
        "id": "77EeVBvl6n4c"
      }
    },
    {
      "cell_type": "code",
      "source": [
        "def evaluate(model, input, target, teacher_traj=None, rates=False, r2_mode='per_batch', r2_all=False,reduction='mean'):\n",
        "    \"\"\"\n",
        "    Evaluate the model on the K-Bit Flipflop task.\n",
        "    :param model: The model to evaluate\n",
        "    :param input: Input tensor of shape (batch_size, time_steps, K)\n",
        "    :param target: Target tensor of shape (batch_size, time_steps, K)\n",
        "    :param teacher_traj: (Optional) tensor of teacher trajectories for evaluation. Default is None.\n",
        "    :param rates: (Optional) If True, apply output nonlinearity to the trajectory. Default is False.\n",
        "    :param r2_mode: Mode for R2 score calculation ('per_batch', 'per_time_step', or 'per_neuron'). Default is 'per_batch'.\n",
        "    :param r2_all: If True, return R2 scores for all modes, otherwise return mean R2 score. Default is False.\n",
        "    :param reduction: Reduction method for the loss ('mean', 'sum' or 'none'). Default is 'mean'.\n",
        "    :return: Tuple of (accuracy, mse error, R2 score, and teacher-student trajectory mse error)\n",
        "    \"\"\"\n",
        "    from sklearn.metrics import r2_score\n",
        "\n",
        "    model.eval()\n",
        "    with torch.no_grad():\n",
        "        prediction, _, trajectory = model(input, None)\n",
        "        if rates:\n",
        "            trajectory = model.output_nonlinearity(trajectory)\n",
        "\n",
        "        acc = accuracy(prediction,target)\n",
        "        error = torch.nn.functional.mse_loss(prediction, target).item()\n",
        "        if teacher_traj is not None:\n",
        "            if r2_mode == 'per_batch':\n",
        "                r2 = np.array([r2_score(teacher_traj[i].detach().cpu().numpy(), trajectory[i].detach().cpu().numpy()) for i in range(len(teacher_traj))])\n",
        "            elif r2_mode == 'per_time_step':\n",
        "                r2 = np.array([r2_score(teacher_traj[:,i].detach().cpu().numpy(), trajectory[:,i].detach().cpu().numpy()) for i in range(teacher_traj.shape[1])])\n",
        "            elif r2_mode == 'per_neuron':\n",
        "                r2 = np.array([r2_score(teacher_traj[:,:,i].detach().cpu().numpy(), trajectory[:,:,i].detach().cpu().numpy()) for i in range(teacher_traj.shape[2])])\n",
        "            else:\n",
        "                raise ValueError(\"Invalid r2_mode. Choose 'per_batch', 'per_time_step' or 'per_neuron'.\")\n",
        "            if not r2_all:\n",
        "                r2 = r2.mean().item()\n",
        "            ts_error = torch.nn.functional.mse_loss(trajectory, teacher_traj).item()\n",
        "            return acc,error,r2,ts_error\n",
        "        else:\n",
        "            return acc,error,None,None\n",
        "\n",
        "\n",
        "def accuracy(prediction,target):\n",
        "    \"\"\"\n",
        "    Calculate the accuracy of the model's predictions.\n",
        "    :param prediction: Prediction tensor of shape (batch_size, time_steps, output_size)\n",
        "    :param target: Target tensor of shape (batch_size, time_steps, output_size)\n",
        "    :return: General accuracy as a float\n",
        "    \"\"\"\n",
        "    sign_prediction = prediction.sign()\n",
        "    sign_target = target.sign()\n",
        "    acc = (sign_prediction == sign_target).float().mean().item()\n",
        "    return acc\n"
      ],
      "metadata": {
        "id": "ApBaBVAe98t9"
      },
      "execution_count": 63,
      "outputs": []
    },
    {
      "cell_type": "code",
      "source": [
        "DEVICE=\"cpu\"\n",
        "from Models import *\n",
        "from K_Bit_Flipflop_task import generate_data\n",
        "import copy\n",
        "\n",
        "T = 100\n",
        "data_size = 500\n",
        "input_size = output_size = 2\n",
        "hidden_dim = 30\n",
        "t_rank = 2\n",
        "\n",
        "s_ranks = 6\n",
        "n_trials = 21\n",
        "\n",
        "criterion = nn.MSELoss().to(DEVICE)\n",
        "stats = {\n",
        "    \"rnn\": {\n",
        "        \"rnn\": [[None for _ in range(n_trials)] for _ in range(s_ranks)],\n",
        "        \"tbrnn\": [[None for _ in range(n_trials)] for _ in range(s_ranks)],\n",
        "    },\n",
        "    \"tbrnn\": {\n",
        "        \"rnn\": [[None for _ in range(n_trials)] for _ in range(s_ranks)],\n",
        "        \"tbrnn\": [[None for _ in range(n_trials)] for _ in range(s_ranks)],\n",
        "    },\n",
        "}\n",
        "\n",
        "t_mse = {\n",
        "    \"rnn\": [[None for _ in range(data_size)] for _ in range(n_trials)],\n",
        "    \"tbrnn\": [[None for _ in range(data_size)] for _ in range(n_trials)]\n",
        "}\n",
        "\n",
        "accs = copy.deepcopy(stats)\n",
        "mse_errs = copy.deepcopy(stats)\n",
        "r2s = copy.deepcopy(stats)\n",
        "t_s_errs = copy.deepcopy(stats)\n",
        "input, target = generate_data(data_size,T,input_size)\n",
        "for run in range(1,n_trials+1):\n",
        "  i = run-1\n",
        "  print(f\"Reading stats of run: {run:03}\")\n",
        "\n",
        "\n",
        "  # define teachers\n",
        "  lr_tbrnn = Low_Rank_TBRNN(input_size, output_size, hidden_dim, rank=t_rank, mode='cont', form='rate', task=\"FF\",\n",
        "                      noise_std=0.0, tau=0.2, Win_bias=False, Wout_bias=False).to(DEVICE)\n",
        "  lr_tbrnn.load_state_dict(torch.load(f\"/content/drive/MyDrive/Three_Bodies_Network/K_Bit_Flipflop_task/{t_rank}/{run:03}/tbrnn_teacher.pth\",map_location=DEVICE))\n",
        "\n",
        "  lr_rnn = Low_Rank_RNN(input_size, output_size, hidden_dim, rank=t_rank, mode='cont', form='rate', task=\"FF\",\n",
        "                      noise_std=0.0, tau=0.2, Win_bias=False, Wout_bias=False).to(DEVICE)\n",
        "  lr_rnn.load_state_dict(torch.load(f\"/content/drive/MyDrive/Three_Bodies_Network/K_Bit_Flipflop_task/{t_rank}/{run:03}/rnn_teacher.pth\",map_location=DEVICE))\n",
        "\n",
        "  teachers = {\"rnn\":lr_rnn,\"tbrnn\":lr_tbrnn}\n",
        "\n",
        "  for t_name,teacher in teachers.items():\n",
        "    t_mse[t_name][i],_,_,_ = evaluate(teacher,input,target,reduction='none')\n",
        "    teacher_hidden = teacher(input,None)[2].detach().clone()\n",
        "\n",
        "    for s_rank in range(1,s_ranks+1):\n",
        "      # define students\n",
        "      lr_rnn_student = Low_Rank_RNN(input_size, output_size, hidden_dim, rank=s_rank,\n",
        "                                mode='cont', form='rate',output_nonlinearity=teacher.output_nonlinearity,task=\"FF\",noise_std=0.0,\n",
        "                                tau=0.2, Win_bias=False, Wout_bias=False).to(DEVICE)\n",
        "\n",
        "      lr_tbrnn_student = Low_Rank_TBRNN(input_size, output_size, hidden_dim, rank=s_rank,\n",
        "                                mode='cont', form='rate',output_nonlinearity=teacher.output_nonlinearity,task=\"FF\",noise_std=0.0,\n",
        "                                tau=0.2, Win_bias=False, Wout_bias=False).to(DEVICE)\n",
        "\n",
        "      students = {\"rnn\":lr_rnn_student,\"tbrnn\":lr_tbrnn_student}\n",
        "\n",
        "      for s_name,student in students.items():\n",
        "\n",
        "        student.load_state_dict(torch.load(f\"/content/drive/MyDrive/Three_Bodies_Network/K_Bit_Flipflop_task/{t_rank}/{run:03}/r_{s_rank}_{s_name}_on_{t_name}.pth\",map_location=DEVICE))\n",
        "\n",
        "        stats[t_name][s_name][s_rank-1][i] = evaluate(student,input,target,teacher_traj=teacher_hidden,rates=True,r2_mode='per_batch',r2_all=True)\n",
        "        (\n",
        "          accs[t_name][s_name][s_rank-1][i],\n",
        "          mse_errs[t_name][s_name][s_rank-1][i],\n",
        "          r2s[t_name][s_name][s_rank-1][i],\n",
        "          t_s_errs[t_name][s_name][s_rank-1][i]\n",
        "        ) = stats[t_name][s_name][s_rank-1][i]\n",
        "\n",
        "for t_name in ['rnn','tbrnn']:\n",
        "  t_mse[t_name] = np.array(t_mse[t_name])\n",
        "  for s_name in ['rnn','tbrnn']:\n",
        "    accs[t_name][s_name] = np.array(accs[t_name][s_name])\n",
        "    mse_errs[t_name][s_name] = np.array(mse_errs[t_name][s_name])\n",
        "    r2s[t_name][s_name] = np.array(r2s[t_name][s_name])\n",
        "    t_s_errs[t_name][s_name] = np.array(t_s_errs[t_name][s_name])\n",
        "\n",
        "print(\"Done.\")"
      ],
      "metadata": {
        "colab": {
          "base_uri": "https://localhost:8080/"
        },
        "id": "kxki-WeB6pWG",
        "outputId": "78a66f85-e8b8-40c9-86d8-9f5abbe8cec7"
      },
      "execution_count": 7,
      "outputs": [
        {
          "output_type": "stream",
          "name": "stdout",
          "text": [
            "Reading stats of run: 001\n",
            "Reading stats of run: 002\n",
            "Reading stats of run: 003\n",
            "Reading stats of run: 004\n",
            "Reading stats of run: 005\n",
            "Reading stats of run: 006\n",
            "Reading stats of run: 007\n",
            "Reading stats of run: 008\n",
            "Reading stats of run: 009\n",
            "Reading stats of run: 010\n",
            "Reading stats of run: 011\n",
            "Reading stats of run: 012\n",
            "Reading stats of run: 013\n",
            "Reading stats of run: 014\n",
            "Reading stats of run: 015\n",
            "Reading stats of run: 016\n",
            "Reading stats of run: 017\n",
            "Reading stats of run: 018\n",
            "Reading stats of run: 019\n",
            "Reading stats of run: 020\n",
            "Reading stats of run: 021\n",
            "Done.\n"
          ]
        }
      ]
    },
    {
      "cell_type": "code",
      "source": [
        "rank = 2\n",
        "models = [\"rnn\",\"tbrnn\"]\n",
        "for t in models:\n",
        "  print(f\"Teacher {t}:\")\n",
        "  for s in models:\n",
        "    threshold = 0.8\n",
        "    students = np.median(r2s[t][s],axis=(1,2))\n",
        "    if (students > threshold).any():\n",
        "      min_pass_threshold = (students > threshold).argmax().item()\n",
        "      min_rank = min_pass_threshold\n",
        "      r2 = students[min_pass_threshold]\n",
        "      min_rank = min_rank + 1\n",
        "      best = \"\"\n",
        "    else:\n",
        "      best = \"best \"\n",
        "      min_rank = f\">{s_ranks}\"\n",
        "      r2 = students.max()\n",
        "    print(f\"\\tstudent {s} - min rank: {min_rank}, {best}median $R^2$: {r2:.2f}\")"
      ],
      "metadata": {
        "colab": {
          "base_uri": "https://localhost:8080/"
        },
        "id": "XiGYbCekAwp1",
        "outputId": "ebae3ead-af6e-41eb-ef5c-b5f12e1e9e25"
      },
      "execution_count": 8,
      "outputs": [
        {
          "output_type": "stream",
          "name": "stdout",
          "text": [
            "Teacher rnn:\n",
            "\tstudent rnn - min rank: 2, median $R^2$: 0.82\n",
            "\tstudent tbrnn - min rank: >6, best median $R^2$: 0.74\n",
            "Teacher tbrnn:\n",
            "\tstudent rnn - min rank: >6, best median $R^2$: -2.34\n",
            "\tstudent tbrnn - min rank: >6, best median $R^2$: -0.56\n"
          ]
        }
      ]
    },
    {
      "cell_type": "code",
      "source": [
        "!git clone https://github.com/gilad-altshuler/Beyond_Linear_Summation-Three_Body_RNNs.git\n",
        "%cd Beyond_Linear_Summation-Three_Body_RNNs\n",
        "DEVICE=\"cpu\"\n",
        "from Models import *\n",
        "from tasks.K_Bit_Flipflop_task import generate_data,evaluate\n",
        "import copy\n",
        "import torch\n",
        "import numpy as np\n",
        "\n",
        "T = 100\n",
        "data_size = 500\n",
        "input_size = output_size = 1\n",
        "hidden_dim = 30\n",
        "t_rank = 1\n",
        "\n",
        "s_ranks = 6\n",
        "n_trials = 12\n",
        "\n",
        "criterion = nn.MSELoss().to(DEVICE)\n",
        "stats = {\n",
        "    \"rnn\": {\n",
        "        \"rnn\": [[None for _ in range(n_trials)] for _ in range(s_ranks)],\n",
        "        \"tbrnn\": [[None for _ in range(n_trials)] for _ in range(s_ranks)],\n",
        "    },\n",
        "    \"tbrnn\": {\n",
        "        \"rnn\": [[None for _ in range(n_trials)] for _ in range(s_ranks)],\n",
        "        \"tbrnn\": [[None for _ in range(n_trials)] for _ in range(s_ranks)],\n",
        "    },\n",
        "}\n",
        "\n",
        "t_mse = {\n",
        "    \"rnn\": [[None for _ in range(data_size)] for _ in range(n_trials)],\n",
        "    \"tbrnn\": [[None for _ in range(data_size)] for _ in range(n_trials)]\n",
        "}\n",
        "\n",
        "accs = copy.deepcopy(stats)\n",
        "mse_errs = copy.deepcopy(stats)\n",
        "r2s = copy.deepcopy(stats)\n",
        "t_s_errs = copy.deepcopy(stats)\n",
        "input, target = generate_data(data_size,T,input_size)\n",
        "for run in range(1,n_trials+1):\n",
        "  i = run-1\n",
        "  print(f\"Reading stats of run: {run:03}\")\n",
        "\n",
        "\n",
        "  # define teachers\n",
        "  lr_tbrnn = Low_Rank_TBRNN(input_size, output_size, hidden_dim, rank=t_rank, mode='cont', form='rate', task=\"FF\",\n",
        "                      noise_std=0.0, tau=0.2, Win_bias=False, Wout_bias=False).to(DEVICE)\n",
        "  lr_tbrnn.load_state_dict(torch.load(f\"/content/drive/MyDrive/Three_Bodies_Network/K_Bit_Flipflop_task/{t_rank}/{run:03}/tbrnn_teacher.pth\",map_location=DEVICE))\n",
        "\n",
        "  lr_rnn = Low_Rank_RNN(input_size, output_size, hidden_dim, rank=t_rank, mode='cont', form='rate', task=\"FF\",\n",
        "                      noise_std=0.0, tau=0.2, Win_bias=False, Wout_bias=False).to(DEVICE)\n",
        "  lr_rnn.load_state_dict(torch.load(f\"/content/drive/MyDrive/Three_Bodies_Network/K_Bit_Flipflop_task/{t_rank}/{run:03}/rnn_teacher.pth\",map_location=DEVICE))\n",
        "\n",
        "  teachers = {\"rnn\":lr_rnn,\"tbrnn\":lr_tbrnn}\n",
        "\n",
        "  for t_name,teacher in teachers.items():\n",
        "    t_mse[t_name][i],_,_,_ = evaluate(teacher,input,target,reduction='none')\n",
        "    teacher_hidden = teacher(input,None)[2].detach().clone()\n",
        "\n",
        "    for s_rank in range(1,s_ranks+1):\n",
        "      # define students\n",
        "      lr_rnn_student = Low_Rank_RNN(input_size, output_size, hidden_dim, rank=s_rank,\n",
        "                                mode='cont', form='rate',output_nonlinearity=teacher.output_nonlinearity,task=\"FF\",noise_std=0.0,\n",
        "                                tau=0.2, Win_bias=False, Wout_bias=False).to(DEVICE)\n",
        "\n",
        "      lr_tbrnn_student = Low_Rank_TBRNN(input_size, output_size, hidden_dim, rank=s_rank,\n",
        "                                mode='cont', form='rate',output_nonlinearity=teacher.output_nonlinearity,task=\"FF\",noise_std=0.0,\n",
        "                                tau=0.2, Win_bias=False, Wout_bias=False).to(DEVICE)\n",
        "\n",
        "      students = {\"rnn\":lr_rnn_student,\"tbrnn\":lr_tbrnn_student}\n",
        "\n",
        "      for s_name,student in students.items():\n",
        "\n",
        "        student.load_state_dict(torch.load(f\"/content/drive/MyDrive/Three_Bodies_Network/K_Bit_Flipflop_task/{t_rank}/{run:03}/r_{s_rank}_{s_name}_on_{t_name}.pth\",map_location=DEVICE))\n",
        "\n",
        "        stats[t_name][s_name][s_rank-1][i] = evaluate(student,input,target,teacher_traj=teacher_hidden,rates=False,r2_mode='per_batch',r2_all=True)\n",
        "        (\n",
        "          accs[t_name][s_name][s_rank-1][i],\n",
        "          mse_errs[t_name][s_name][s_rank-1][i],\n",
        "          r2s[t_name][s_name][s_rank-1][i],\n",
        "          t_s_errs[t_name][s_name][s_rank-1][i]\n",
        "        ) = stats[t_name][s_name][s_rank-1][i]\n",
        "\n",
        "for t_name in ['rnn','tbrnn']:\n",
        "  t_mse[t_name] = np.array(t_mse[t_name])\n",
        "  for s_name in ['rnn','tbrnn']:\n",
        "    accs[t_name][s_name] = np.array(accs[t_name][s_name])\n",
        "    mse_errs[t_name][s_name] = np.array(mse_errs[t_name][s_name])\n",
        "    r2s[t_name][s_name] = np.array(r2s[t_name][s_name])\n",
        "    t_s_errs[t_name][s_name] = np.array(t_s_errs[t_name][s_name])\n",
        "\n",
        "print(\"Done.\")"
      ],
      "metadata": {
        "colab": {
          "base_uri": "https://localhost:8080/"
        },
        "id": "lWDkwpPo1XA8",
        "outputId": "fe6d35e8-75d7-4cdb-f7e5-e72187e307a4"
      },
      "execution_count": 1,
      "outputs": [
        {
          "output_type": "stream",
          "name": "stdout",
          "text": [
            "Cloning into 'Beyond_Linear_Summation-Three_Body_RNNs'...\n",
            "remote: Enumerating objects: 368, done.\u001b[K\n",
            "remote: Counting objects: 100% (87/87), done.\u001b[K\n",
            "remote: Compressing objects: 100% (59/59), done.\u001b[K\n",
            "remote: Total 368 (delta 59), reused 38 (delta 26), pack-reused 281 (from 1)\u001b[K\n",
            "Receiving objects: 100% (368/368), 347.15 MiB | 23.27 MiB/s, done.\n",
            "Resolving deltas: 100% (169/169), done.\n",
            "/content/Beyond_Linear_Summation-Three_Body_RNNs\n",
            "Reading stats of run: 001\n",
            "Reading stats of run: 002\n",
            "Reading stats of run: 003\n",
            "Reading stats of run: 004\n",
            "Reading stats of run: 005\n",
            "Reading stats of run: 006\n",
            "Reading stats of run: 007\n",
            "Reading stats of run: 008\n",
            "Reading stats of run: 009\n",
            "Reading stats of run: 010\n",
            "Reading stats of run: 011\n",
            "Reading stats of run: 012\n",
            "Done.\n"
          ]
        }
      ]
    },
    {
      "cell_type": "code",
      "source": [
        "models = [\"rnn\",\"tbrnn\"]\n",
        "for t in models:\n",
        "  print(f\"Teacher {t}:\")\n",
        "  for s in models:\n",
        "    threshold = 0.8\n",
        "    students = np.mean(r2s[t][s],axis=(1,2))\n",
        "    if (students > threshold).any():\n",
        "      min_pass_threshold = (students > threshold).argmax().item()\n",
        "      min_rank = min_pass_threshold\n",
        "      r2 = students[min_pass_threshold]\n",
        "      min_rank = min_rank + 1\n",
        "      best = \"\"\n",
        "    else:\n",
        "      best = \"best \"\n",
        "      min_rank = f\">{s_ranks}\"\n",
        "      r2 = students.max()\n",
        "    print(f\"\\tstudent {s} - min rank: {min_rank}, {best}median $R^2$: {r2:.2f}\")"
      ],
      "metadata": {
        "colab": {
          "base_uri": "https://localhost:8080/"
        },
        "id": "MvDN4p3i1l_a",
        "outputId": "2a0a60d4-5246-4c41-cf9c-ec9ea9597b7a"
      },
      "execution_count": 13,
      "outputs": [
        {
          "output_type": "stream",
          "name": "stdout",
          "text": [
            "Teacher rnn:\n",
            "\tstudent rnn - min rank: 1, median $R^2$: 0.98\n",
            "\tstudent tbrnn - min rank: >6, best median $R^2$: 0.37\n",
            "Teacher tbrnn:\n",
            "\tstudent rnn - min rank: >6, best median $R^2$: -1.60\n",
            "\tstudent tbrnn - min rank: 1, median $R^2$: 0.95\n"
          ]
        }
      ]
    },
    {
      "cell_type": "code",
      "source": [
        "r2s['tbrnn']['rnn'][3].mean(-1)"
      ],
      "metadata": {
        "colab": {
          "base_uri": "https://localhost:8080/"
        },
        "id": "4YJVaUBd4GE7",
        "outputId": "f86680fd-2c50-4b11-f2ac-61b07e0592ea"
      },
      "execution_count": 22,
      "outputs": [
        {
          "output_type": "execute_result",
          "data": {
            "text/plain": [
              "array([-0.12697847, -3.29764704, -0.71296211, -1.49065509, -2.48419152,\n",
              "       -2.303516  , -2.04424568, -2.55080193, -1.40895349, -1.40720986,\n",
              "       -2.15095919, -1.88337092])"
            ]
          },
          "metadata": {},
          "execution_count": 22
        }
      ]
    },
    {
      "cell_type": "markdown",
      "source": [
        "# Fig. 5 preperation"
      ],
      "metadata": {
        "id": "ShJnZAuLSzNB"
      }
    },
    {
      "cell_type": "code",
      "source": [
        "import matplotlib.pyplot as plt\n",
        "import matplotlib.patches as patches\n",
        "\n",
        "# Create figure and axes\n",
        "fig, ax = plt.subplots(figsize=(7.5, 5.625),dpi=300)\n",
        "\n",
        "# Set axis limits and remove ticks\n",
        "ax.set_xlim(0, 10)\n",
        "ax.set_ylim(-5, 10)\n",
        "ax.set_xticks([])\n",
        "ax.set_yticks([])\n",
        "\n",
        "# Remove spines and grid\n",
        "ax.grid(False)\n",
        "for spine in ax.spines.values():\n",
        "    spine.set_visible(False)\n",
        "\n",
        "# Define colors for the shaded regions\n",
        "grn_color = '#ff9999'\n",
        "brain_color = '#99ccff'\n",
        "\n",
        "# Add transparent hatched regions for GRN and Brain Neurons\n",
        "grn_patch = patches.Rectangle((5, -5), 5, 15, facecolor='none', edgecolor=grn_color,\n",
        "                              hatch='///', linewidth=0.0, zorder=0)\n",
        "brain_patch = patches.Rectangle((0, -5), 6.5, 15, facecolor='none', edgecolor=brain_color,\n",
        "                                hatch='\\\\\\', linewidth=0.0, zorder=0)\n",
        "ax.add_patch(grn_patch)\n",
        "ax.add_patch(brain_patch)\n",
        "\n",
        "# Plot circles for tasks\n",
        "tasks = {\n",
        "    \"Context-dependent\\n monkey task\": (5, -2.5),\n",
        "    \"Monkey reach task\": (2, 2.5),\n",
        "    \"MultiFate GRN\\n inference task\": (8, 8)\n",
        "}\n",
        "\n",
        "colors = {\n",
        "    \"Context-dependent\\n monkey task\": \"#E69F00\",\n",
        "    \"Monkey reach task\": \"#56B4E9\",\n",
        "    \"MultiFate GRN\\n inference task\": \"#D55E00\"\n",
        "}\n",
        "\n",
        "for name, (x, y) in tasks.items():\n",
        "    ax.plot(x, y, 'o', markersize=40, color=colors[name])\n",
        "    ax.text(x, y - 1.5, name, fontsize=10, va='center', ha='center')\n",
        "\n",
        "# Add the rounded square for K-bit flipflop + sine\n",
        "rect = patches.FancyBboxPatch(\n",
        "    (3, -2.5), 4, 3,\n",
        "    boxstyle=\"round,pad=0.02,rounding_size=0.2\",\n",
        "    edgecolor='black',\n",
        "    facecolor='lightgray',\n",
        "    linewidth=1.5\n",
        ")\n",
        "ax.add_patch(rect)\n",
        "ax.text(5, -0.9, \"Flipflop task\\n Sine prediction task\", fontsize=10, ha='center', va='center')\n",
        "\n",
        "# Add vertical and horizontal reference lines\n",
        "ax.axvline(x=5, color='gray', linestyle='--', linewidth=1)\n",
        "ax.axhline(y=2.5, color='gray', linestyle='--', linewidth=1)\n",
        "\n",
        "# Corrected axis labels beside the lines\n",
        "ax.text(5, -5.1, \"Low Rank\", ha='center', va='top', fontsize=11)\n",
        "ax.text(5, 10.1, \"High Rank\", ha='center', va='bottom', fontsize=11)\n",
        "ax.text(10.1, 2.5, \"High Order\", ha='left', va='center', fontsize=11, rotation=270)\n",
        "ax.text(-0.1, 2.5, \"Low Order\", ha='right', va='center', fontsize=11, rotation=90)\n",
        "\n",
        "# Add legend for the hatched regions\n",
        "legend_elements = [\n",
        "    patches.Patch(facecolor='none', edgecolor=brain_color, hatch='\\\\\\', label='Brain Neural Networks (conjectured)'),\n",
        "    patches.Patch(facecolor='none', edgecolor=grn_color, hatch='///', label='Gene Regulatory Networks (conjectured)')\n",
        "]\n",
        "ax.legend(handles=legend_elements, loc='upper center', bbox_to_anchor=(0.5, -0.05), ncol=2, frameon=False)\n",
        "\n",
        "# Show final plot\n",
        "plt.tight_layout()\n",
        "plt.savefig(FIG_DIR / \"Mapping Tasks Space.png\", dpi=300, bbox_inches='tight')\n",
        "plt.show()"
      ],
      "metadata": {
        "id": "0svhXiKaS1Lo"
      },
      "execution_count": null,
      "outputs": []
    },
    {
      "cell_type": "code",
      "source": [
        "\n",
        "from PIL import Image\n",
        "\n",
        "# Load image\n",
        "img = Image.open(FIG_DIR / \"Mapping Tasks Space.png\")\n",
        "\n",
        "# Get pixel dimensions\n",
        "width_px, height_px = img.size\n",
        "print(f\"Pixel dimensions: {width_px} × {height_px} pixels\")\n",
        "\n",
        "# Get DPI info (if embedded)\n",
        "dpi = img.info.get('dpi', (300, 300))  # Default fallback to 300\n",
        "print(f\"DPI: {dpi[0]} x {dpi[1]}\")\n",
        "\n",
        "# Convert to inches\n",
        "width_in = width_px / dpi[0]\n",
        "height_in = height_px / dpi[1]\n",
        "print(f\"Size in inches: {float(width_in):.2f} × {float(height_in):.2f} inches\")"
      ],
      "metadata": {
        "id": "1zws-Xf5S6Gv"
      },
      "execution_count": null,
      "outputs": []
    }
  ],
  "metadata": {
    "colab": {
      "machine_shape": "hm",
      "provenance": [],
      "mount_file_id": "1iLKWKsQ40ROT6-rM5pW2Z9OPFwuom2g_",
      "authorship_tag": "ABX9TyORBB6YB+ztiirkSq7GIdcV",
      "include_colab_link": true
    },
    "kernelspec": {
      "display_name": "Python 3",
      "name": "python3"
    },
    "language_info": {
      "name": "python"
    }
  },
  "nbformat": 4,
  "nbformat_minor": 0
}